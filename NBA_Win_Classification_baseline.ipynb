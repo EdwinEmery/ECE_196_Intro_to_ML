{
 "cells": [
  {
   "cell_type": "code",
   "execution_count": 1,
   "metadata": {},
   "outputs": [],
   "source": [
    "import pandas as pd\n",
    "import numpy as np\n",
    "from sklearn.model_selection import train_test_split\n",
    "from sklearn.decomposition import PCA\n",
    "from sklearn.neighbors import KNeighborsClassifier\n",
    "from sklearn.linear_model import LogisticRegression\n",
    "from sklearn.svm import SVC\n",
    "from sklearn.metrics import balanced_accuracy_score\n",
    "import matplotlib.pyplot as plt"
   ]
  },
  {
   "cell_type": "code",
   "execution_count": 2,
   "metadata": {},
   "outputs": [],
   "source": [
    "df = pd.read_csv('NBA_Team_Data_18-19.csv')"
   ]
  },
  {
   "cell_type": "code",
   "execution_count": 3,
   "metadata": {
    "scrolled": true
   },
   "outputs": [
    {
     "data": {
      "text/html": [
       "<div>\n",
       "<style scoped>\n",
       "    .dataframe tbody tr th:only-of-type {\n",
       "        vertical-align: middle;\n",
       "    }\n",
       "\n",
       "    .dataframe tbody tr th {\n",
       "        vertical-align: top;\n",
       "    }\n",
       "\n",
       "    .dataframe thead th {\n",
       "        text-align: right;\n",
       "    }\n",
       "</style>\n",
       "<table border=\"1\" class=\"dataframe\">\n",
       "  <thead>\n",
       "    <tr style=\"text-align: right;\">\n",
       "      <th></th>\n",
       "      <th>Team</th>\n",
       "      <th>Match Up</th>\n",
       "      <th>Game Date</th>\n",
       "      <th>Season</th>\n",
       "      <th>W/L</th>\n",
       "      <th>MIN</th>\n",
       "      <th>PTS</th>\n",
       "      <th>FGM</th>\n",
       "      <th>FGA</th>\n",
       "      <th>FG%</th>\n",
       "      <th>...</th>\n",
       "      <th>FTA</th>\n",
       "      <th>FT%</th>\n",
       "      <th>OREB</th>\n",
       "      <th>DREB</th>\n",
       "      <th>REB</th>\n",
       "      <th>AST</th>\n",
       "      <th>STL</th>\n",
       "      <th>BLK</th>\n",
       "      <th>TOV</th>\n",
       "      <th>PF</th>\n",
       "    </tr>\n",
       "  </thead>\n",
       "  <tbody>\n",
       "    <tr>\n",
       "      <td>0</td>\n",
       "      <td>MEM</td>\n",
       "      <td>MEM vs. GSW</td>\n",
       "      <td>04/10/2019</td>\n",
       "      <td>NaN</td>\n",
       "      <td>W</td>\n",
       "      <td>240</td>\n",
       "      <td>132</td>\n",
       "      <td>48</td>\n",
       "      <td>98</td>\n",
       "      <td>49.0</td>\n",
       "      <td>...</td>\n",
       "      <td>18</td>\n",
       "      <td>83.3</td>\n",
       "      <td>15</td>\n",
       "      <td>34</td>\n",
       "      <td>49</td>\n",
       "      <td>25</td>\n",
       "      <td>9</td>\n",
       "      <td>0</td>\n",
       "      <td>11</td>\n",
       "      <td>18</td>\n",
       "    </tr>\n",
       "    <tr>\n",
       "      <td>1</td>\n",
       "      <td>GSW</td>\n",
       "      <td>GSW @ MEM</td>\n",
       "      <td>04/10/2019</td>\n",
       "      <td>NaN</td>\n",
       "      <td>L</td>\n",
       "      <td>240</td>\n",
       "      <td>117</td>\n",
       "      <td>46</td>\n",
       "      <td>92</td>\n",
       "      <td>50.0</td>\n",
       "      <td>...</td>\n",
       "      <td>14</td>\n",
       "      <td>85.7</td>\n",
       "      <td>9</td>\n",
       "      <td>30</td>\n",
       "      <td>39</td>\n",
       "      <td>32</td>\n",
       "      <td>3</td>\n",
       "      <td>5</td>\n",
       "      <td>14</td>\n",
       "      <td>17</td>\n",
       "    </tr>\n",
       "    <tr>\n",
       "      <td>2</td>\n",
       "      <td>ORL</td>\n",
       "      <td>ORL @ CHA</td>\n",
       "      <td>04/10/2019</td>\n",
       "      <td>NaN</td>\n",
       "      <td>W</td>\n",
       "      <td>240</td>\n",
       "      <td>122</td>\n",
       "      <td>48</td>\n",
       "      <td>88</td>\n",
       "      <td>54.5</td>\n",
       "      <td>...</td>\n",
       "      <td>20</td>\n",
       "      <td>75.0</td>\n",
       "      <td>9</td>\n",
       "      <td>30</td>\n",
       "      <td>39</td>\n",
       "      <td>24</td>\n",
       "      <td>5</td>\n",
       "      <td>2</td>\n",
       "      <td>6</td>\n",
       "      <td>19</td>\n",
       "    </tr>\n",
       "    <tr>\n",
       "      <td>3</td>\n",
       "      <td>CHA</td>\n",
       "      <td>CHA vs. ORL</td>\n",
       "      <td>04/10/2019</td>\n",
       "      <td>NaN</td>\n",
       "      <td>L</td>\n",
       "      <td>240</td>\n",
       "      <td>114</td>\n",
       "      <td>41</td>\n",
       "      <td>78</td>\n",
       "      <td>52.6</td>\n",
       "      <td>...</td>\n",
       "      <td>27</td>\n",
       "      <td>88.9</td>\n",
       "      <td>4</td>\n",
       "      <td>28</td>\n",
       "      <td>32</td>\n",
       "      <td>21</td>\n",
       "      <td>3</td>\n",
       "      <td>4</td>\n",
       "      <td>8</td>\n",
       "      <td>14</td>\n",
       "    </tr>\n",
       "    <tr>\n",
       "      <td>4</td>\n",
       "      <td>MIN</td>\n",
       "      <td>MIN @ DEN</td>\n",
       "      <td>04/10/2019</td>\n",
       "      <td>NaN</td>\n",
       "      <td>L</td>\n",
       "      <td>240</td>\n",
       "      <td>95</td>\n",
       "      <td>39</td>\n",
       "      <td>91</td>\n",
       "      <td>42.9</td>\n",
       "      <td>...</td>\n",
       "      <td>6</td>\n",
       "      <td>66.7</td>\n",
       "      <td>7</td>\n",
       "      <td>34</td>\n",
       "      <td>41</td>\n",
       "      <td>24</td>\n",
       "      <td>6</td>\n",
       "      <td>0</td>\n",
       "      <td>10</td>\n",
       "      <td>22</td>\n",
       "    </tr>\n",
       "  </tbody>\n",
       "</table>\n",
       "<p>5 rows × 24 columns</p>\n",
       "</div>"
      ],
      "text/plain": [
       "  Team     Match Up   Game Date  Season W/L  MIN  PTS  FGM  FGA   FG%  ...  \\\n",
       "0  MEM  MEM vs. GSW  04/10/2019     NaN   W  240  132   48   98  49.0  ...   \n",
       "1  GSW    GSW @ MEM  04/10/2019     NaN   L  240  117   46   92  50.0  ...   \n",
       "2  ORL    ORL @ CHA  04/10/2019     NaN   W  240  122   48   88  54.5  ...   \n",
       "3  CHA  CHA vs. ORL  04/10/2019     NaN   L  240  114   41   78  52.6  ...   \n",
       "4  MIN    MIN @ DEN  04/10/2019     NaN   L  240   95   39   91  42.9  ...   \n",
       "\n",
       "   FTA   FT%  OREB  DREB  REB  AST  STL  BLK  TOV  PF  \n",
       "0   18  83.3    15    34   49   25    9    0   11  18  \n",
       "1   14  85.7     9    30   39   32    3    5   14  17  \n",
       "2   20  75.0     9    30   39   24    5    2    6  19  \n",
       "3   27  88.9     4    28   32   21    3    4    8  14  \n",
       "4    6  66.7     7    34   41   24    6    0   10  22  \n",
       "\n",
       "[5 rows x 24 columns]"
      ]
     },
     "execution_count": 3,
     "metadata": {},
     "output_type": "execute_result"
    }
   ],
   "source": [
    "df.head()"
   ]
  },
  {
   "cell_type": "markdown",
   "metadata": {},
   "source": [
    "**Data Cleaning**"
   ]
  },
  {
   "cell_type": "markdown",
   "metadata": {},
   "source": [
    "As you can see above, our dataset is fairly clean in that our data is recorded with a consistent format.  Lets first check for any null values in our data. This is important because we cannot generate a model with null values.\n",
    "\n",
    "Hint: use .isnull() and .sum() to find the sum of null values in a given dataframe."
   ]
  },
  {
   "cell_type": "code",
   "execution_count": 4,
   "metadata": {},
   "outputs": [
    {
     "data": {
      "text/plain": [
       "Team            0\n",
       "Match Up        0\n",
       "Game Date       0\n",
       "Season       2460\n",
       "W/L             0\n",
       "MIN             0\n",
       "PTS             0\n",
       "FGM             0\n",
       "FGA             0\n",
       "FG%             0\n",
       "3PM             0\n",
       "3PA             0\n",
       "3P%             0\n",
       "FTM             0\n",
       "FTA             0\n",
       "FT%             0\n",
       "OREB            0\n",
       "DREB            0\n",
       "REB             0\n",
       "AST             0\n",
       "STL             0\n",
       "BLK             0\n",
       "TOV             0\n",
       "PF              0\n",
       "dtype: int64"
      ]
     },
     "execution_count": 4,
     "metadata": {},
     "output_type": "execute_result"
    }
   ],
   "source": [
    "# Output a series with the column names of our dataframe and the sum of their null values\n",
    "df.isnull().sum()  "
   ]
  },
  {
   "cell_type": "markdown",
   "metadata": {},
   "source": [
    "The 'Season' column is the only column with null values.  All values are null, so we will drop the column."
   ]
  },
  {
   "cell_type": "code",
   "execution_count": 5,
   "metadata": {},
   "outputs": [],
   "source": [
    "df = df.drop('Season', axis=1)"
   ]
  },
  {
   "cell_type": "code",
   "execution_count": 6,
   "metadata": {},
   "outputs": [
    {
     "data": {
      "text/plain": [
       "Team          object\n",
       "Match Up      object\n",
       "Game Date     object\n",
       "W/L           object\n",
       "MIN            int64\n",
       "PTS            int64\n",
       "FGM            int64\n",
       "FGA            int64\n",
       "FG%          float64\n",
       "3PM            int64\n",
       "3PA            int64\n",
       "3P%          float64\n",
       "FTM            int64\n",
       "FTA            int64\n",
       "FT%          float64\n",
       "OREB           int64\n",
       "DREB           int64\n",
       "REB            int64\n",
       "AST            int64\n",
       "STL            int64\n",
       "BLK            int64\n",
       "TOV            int64\n",
       "PF             int64\n",
       "dtype: object"
      ]
     },
     "execution_count": 6,
     "metadata": {},
     "output_type": "execute_result"
    }
   ],
   "source": [
    "df.dtypes"
   ]
  },
  {
   "cell_type": "markdown",
   "metadata": {},
   "source": [
    "Next, lets split our dataset into its features, X, and the label, y. Remember that our label is whether or not a team has won the game, this is in the 'W/L' column."
   ]
  },
  {
   "cell_type": "code",
   "execution_count": 7,
   "metadata": {},
   "outputs": [],
   "source": [
    "# X should equal all of columns that are not 'W/L'\n",
    "X = df.drop('W/L', axis=1)\n",
    "# Y should equal the 'W/L' column\n",
    "y = df['W/L']"
   ]
  },
  {
   "cell_type": "markdown",
   "metadata": {},
   "source": [
    "**Exploratory Data Analysis**"
   ]
  },
  {
   "cell_type": "markdown",
   "metadata": {},
   "source": [
    "This section will get us more familiar with our dataset, as well as help with feature selection later on. In the cell below, we have found the indices of wins and losses, respectively.\n",
    "\n",
    "Using these indices, we will compare the distribution of the same variables when a team wins versus when they lose."
   ]
  },
  {
   "cell_type": "code",
   "execution_count": 8,
   "metadata": {},
   "outputs": [],
   "source": [
    "wins = y[y==\"W\"].index\n",
    "losses = y[y==\"L\"].index"
   ]
  },
  {
   "cell_type": "markdown",
   "metadata": {},
   "source": [
    "Generate at least 3 sets of histograms, one set for each of the following columns in X: 'PTS', 'REB', and 'TOV'.  Each set should have two histograms, one filtered by when a team wins, and another filtered by when a team loses.\n",
    "\n",
    "Note: Your first plot will show up as blue, your second will be orange.\n",
    "\n",
    "Hint: Use .loc to select certain rows"
   ]
  },
  {
   "cell_type": "code",
   "execution_count": 9,
   "metadata": {},
   "outputs": [
    {
     "data": {
      "text/plain": [
       "<matplotlib.axes._subplots.AxesSubplot at 0x1a1a585c50>"
      ]
     },
     "execution_count": 9,
     "metadata": {},
     "output_type": "execute_result"
    },
    {
     "data": {
      "image/png": "[encoded data removed]",
      "text/plain": [
       "<Figure size 432x288 with 1 Axes>"
      ]
     },
     "metadata": {
      "needs_background": "light"
     },
     "output_type": "display_data"
    }
   ],
   "source": [
    "plt.xlabel(\"PTS\") # Fill this in with the name of column you are plotting on the x-axis\n",
    "plt.ylabel(\"Count\") # The y-axis of a histogram should always be count, unless you are making a density plot\n",
    "\n",
    "### Plot two histograms of your target column: one filtered by wins and one filtered by losses\n",
    "\n",
    "X.loc[wins][\"PTS\"].hist()\n",
    "X.loc[losses][\"PTS\"].hist()"
   ]
  },
  {
   "cell_type": "code",
   "execution_count": 10,
   "metadata": {},
   "outputs": [
    {
     "data": {
      "text/plain": [
       "Index(['Team', 'Match Up', 'Game Date', 'MIN', 'PTS', 'FGM', 'FGA', 'FG%',\n",
       "       '3PM', '3PA', '3P%', 'FTM', 'FTA', 'FT%', 'OREB', 'DREB', 'REB', 'AST',\n",
       "       'STL', 'BLK', 'TOV', 'PF'],\n",
       "      dtype='object')"
      ]
     },
     "execution_count": 10,
     "metadata": {},
     "output_type": "execute_result"
    }
   ],
   "source": [
    "X.columns"
   ]
  },
  {
   "cell_type": "code",
   "execution_count": 11,
   "metadata": {},
   "outputs": [
    {
     "data": {
      "text/plain": [
       "<matplotlib.axes._subplots.AxesSubplot at 0x1a1b994a10>"
      ]
     },
     "execution_count": 11,
     "metadata": {},
     "output_type": "execute_result"
    },
    {
     "data": {
      "image/png": "[encoded data removed]",
      "text/plain": [
       "<Figure size 432x288 with 1 Axes>"
      ]
     },
     "metadata": {
      "needs_background": "light"
     },
     "output_type": "display_data"
    }
   ],
   "source": [
    "plt.xlabel(\"REB\") # Fill this in with the name of column you are plotting on the x-axis\n",
    "plt.ylabel(\"Count\") # The y-axis of a histogram should always be count, unless you are making a density plot\n",
    "\n",
    "### Plot two histograms of your target column: one filtered by wins and one filtered by losses\n",
    "\n",
    "X.loc[wins][\"REB\"].hist()\n",
    "X.loc[losses][\"REB\"].hist()"
   ]
  },
  {
   "cell_type": "code",
   "execution_count": 12,
   "metadata": {},
   "outputs": [
    {
     "data": {
      "text/plain": [
       "<matplotlib.axes._subplots.AxesSubplot at 0x1a1bc717d0>"
      ]
     },
     "execution_count": 12,
     "metadata": {},
     "output_type": "execute_result"
    },
    {
     "data": {
      "image/png": "[encoded data removed]",
      "text/plain": [
       "<Figure size 432x288 with 1 Axes>"
      ]
     },
     "metadata": {
      "needs_background": "light"
     },
     "output_type": "display_data"
    }
   ],
   "source": [
    "plt.xlabel(\"TOV\") # Fill this in with the name of column you are plotting on the x-axis\n",
    "plt.ylabel(\"Count\") # The y-axis of a histogram should always be count, unless you are making a density plot\n",
    "\n",
    "### Plot two histograms of your target column: one filtered by wins and one filtered by losses\n",
    "\n",
    "X.loc[wins][\"TOV\"].hist()\n",
    "X.loc[losses][\"TOV\"].hist()"
   ]
  },
  {
   "cell_type": "markdown",
   "metadata": {},
   "source": [
    "Note that the distribution of 'TOV' is more even than the other two.  Lets look at the summary statistics for the 'TOV' column to find any difference in the distributions.\n",
    "\n",
    "Hint: Use .describe() to generate summary statistics for a column."
   ]
  },
  {
   "cell_type": "code",
   "execution_count": 13,
   "metadata": {},
   "outputs": [
    {
     "data": {
      "text/plain": [
       "count    1230.000000\n",
       "mean       13.716260\n",
       "std         3.786617\n",
       "min         4.000000\n",
       "25%        11.000000\n",
       "50%        14.000000\n",
       "75%        16.000000\n",
       "max        25.000000\n",
       "Name: TOV, dtype: float64"
      ]
     },
     "execution_count": 13,
     "metadata": {},
     "output_type": "execute_result"
    }
   ],
   "source": [
    "X.loc[wins]['TOV'].describe()"
   ]
  },
  {
   "cell_type": "code",
   "execution_count": 14,
   "metadata": {},
   "outputs": [
    {
     "data": {
      "text/plain": [
       "count    1230.000000\n",
       "mean       14.449593\n",
       "std         4.031041\n",
       "min         3.000000\n",
       "25%        12.000000\n",
       "50%        14.000000\n",
       "75%        17.000000\n",
       "max        29.000000\n",
       "Name: TOV, dtype: float64"
      ]
     },
     "execution_count": 14,
     "metadata": {},
     "output_type": "execute_result"
    }
   ],
   "source": [
    "X.loc[losses]['TOV'].describe()"
   ]
  },
  {
   "cell_type": "markdown",
   "metadata": {},
   "source": [
    "**Feature Extraction and Engineering**"
   ]
  },
  {
   "cell_type": "markdown",
   "metadata": {},
   "source": [
    "Now that we have some sense of what our data looks like and how distribution of columns differ when a team wins versus when they lose, lets try and select the most important features to predict whether or not a team will win.  Additionally, we can create derived features by forming combinations of our columns as we see fit, or turning categorical variables into vectors.\n",
    "\n",
    "This part is pretty open-ended, but I do have some tips.  Check out the ['Four Factors of Basketball Success'](https://www.basketball-reference.com/about/factors.html) by Dean Oliver.  He gives weights to the four most important factors that lead to a team winning.  Our model will create weights for us, but the features outlined in his four factors can be derived from our dataset.\n",
    "\n",
    "As a baseline model, try to input all quantitative columns into a kNN classifier and see what accuracy you are able to get.  Once you apply a model to all quantitative columns, come back to this part and see if you can improve your accuracy.  Machine Learning projects are an iterative process, meaning you should start with a baseline model and work your way up.\n",
    "\n",
    "Recommendation: Try to standardize all your columns and see if that improves accuracy over non-standardization."
   ]
  },
  {
   "cell_type": "markdown",
   "metadata": {},
   "source": [
    "Finding Quantitative Columns:\n",
    "\n",
    "The cell below provides skeleton code for finding all quantitative columns.\n",
    "\n",
    "Hint: Use .dtype to find the datatype of a given column"
   ]
  },
  {
   "cell_type": "code",
   "execution_count": 15,
   "metadata": {},
   "outputs": [],
   "source": [
    "quant_cols = []\n",
    "for col in X.columns:\n",
    "    if ...:\n",
    "        quant_cols.append(col)"
   ]
  },
  {
   "cell_type": "markdown",
   "metadata": {},
   "source": [
    "**Optional**\n",
    "\n",
    "In the cell below, I will provide skeleton code for deriving a feature from our dataset.  In this example, we will be able to find whether a team is playing at Home or not based on the 'Match Up' column.  There are two types of outputs for this column: Case 1 -- 'Team_1 vs. Team_2' or Case 2 -- 'Team_1 @ Team_2'.  In Case 1, Team_1 is at home, whereas in Case 2, Team_1 is away.  \n",
    "\n",
    "We will utilize One Hot Encoding to separate 'Home' and 'Away' into two separate columns.\n",
    "\n",
    "Hint: Create a function to encode 'vs.' and '@' as 'Home' and 'Away' respectively for each row, then use df[column].apply(func) to apply your function to your Series.\n",
    "\n",
    "Hint: Use .split() to help isolate the 'vs.' and '@' characters.\n",
    "\n",
    "Hint: Use pd.get_dummies(df[column]) to One Hot Encode a given column."
   ]
  },
  {
   "cell_type": "code",
   "execution_count": 16,
   "metadata": {},
   "outputs": [],
   "source": [
    "def find_home_away(row):\n",
    "    ### Insert code here -- function should return either 'Home' or 'Away'\n",
    "    if ...:\n",
    "        return 'Home'\n",
    "    if ...:\n",
    "        return 'Away'"
   ]
  },
  {
   "cell_type": "code",
   "execution_count": 17,
   "metadata": {},
   "outputs": [],
   "source": [
    "home_away = ... # Return a Series of values that are either 'Home' or 'Away' (Hint: Use .apply)\n",
    "... # One Hot Encode the 'Matchup Column' using pd.get_dummies."
   ]
  },
  {
   "cell_type": "code",
   "execution_count": 18,
   "metadata": {},
   "outputs": [
    {
     "data": {
      "text/plain": [
       "0    MEM vs. GSW\n",
       "1      GSW @ MEM\n",
       "2      ORL @ CHA\n",
       "3    CHA vs. ORL\n",
       "4      MIN @ DEN\n",
       "Name: Match Up, dtype: object"
      ]
     },
     "execution_count": 18,
     "metadata": {},
     "output_type": "execute_result"
    }
   ],
   "source": [
    "X['Match Up'].head()"
   ]
  },
  {
   "cell_type": "markdown",
   "metadata": {},
   "source": [
    "This cell has skeleton code for performing Logistic Regression on each quantitative column and y. Use accuracy as a metric for determing which columns are most predictive towards success.  Feel free to use this once creating any derived features to check their effectiveness."
   ]
  },
  {
   "cell_type": "code",
   "execution_count": 25,
   "metadata": {},
   "outputs": [
    {
     "name": "stdout",
     "output_type": "stream",
     "text": [
      "MIN:\n",
      "Total Accuracy: 0.0\n",
      "\n",
      "PTS:\n",
      "Total Accuracy: 0.0\n",
      "\n",
      "FGM:\n",
      "Total Accuracy: 0.0\n",
      "\n",
      "FGA:\n",
      "Total Accuracy: 0.0\n",
      "\n",
      "FG%:\n",
      "Total Accuracy: 0.0\n",
      "\n",
      "3PM:\n",
      "Total Accuracy: 0.0\n",
      "\n",
      "3PA:\n",
      "Total Accuracy: 0.0\n",
      "\n",
      "3P%:\n",
      "Total Accuracy: 0.0\n",
      "\n",
      "FTM:\n",
      "Total Accuracy: 0.0\n",
      "\n",
      "FTA:\n",
      "Total Accuracy: 0.0\n",
      "\n",
      "FT%:\n",
      "Total Accuracy: 0.0\n",
      "\n",
      "OREB:\n",
      "Total Accuracy: 0.0\n",
      "\n",
      "DREB:\n",
      "Total Accuracy: 0.0\n",
      "\n",
      "REB:\n",
      "Total Accuracy: 0.0\n",
      "\n",
      "AST:\n",
      "Total Accuracy: 0.0\n",
      "\n",
      "STL:\n",
      "Total Accuracy: 0.0\n",
      "\n",
      "BLK:\n",
      "Total Accuracy: 0.0\n",
      "\n",
      "TOV:\n",
      "Total Accuracy: 0.0\n",
      "\n",
      "PF:\n",
      "Total Accuracy: 0.0\n",
      "\n",
      "Away:\n",
      "Total Accuracy: 0.0\n",
      "\n",
      "Home:\n",
      "Total Accuracy: 0.0\n",
      "\n"
     ]
    },
    {
     "name": "stderr",
     "output_type": "stream",
     "text": [
      "/Users/jordanlevy/Documents/anaconda3/lib/python3.7/site-packages/pandas/core/frame.py:3494: SettingWithCopyWarning: \n",
      "A value is trying to be set on a copy of a slice from a DataFrame.\n",
      "Try using .loc[row_indexer,col_indexer] = value instead\n",
      "\n",
      "See the caveats in the documentation: http://pandas.pydata.org/pandas-docs/stable/user_guide/indexing.html#returning-a-view-versus-a-copy\n",
      "  self[k1] = value[k2]\n"
     ]
    }
   ],
   "source": [
    "X_feat = ... # Create a feature dataframe that is a subset of X\n",
    "model = ...  # Initialize a classifier such as KNN, LogisticRegression, SVC, etc...\n",
    "for col in X_feat:\n",
    "    ...  # fit your model to X_feat\n",
    "    pred = ...  # make predictions with your model using \n",
    "    print(\"{}:\".format(col))\n",
    "    print(\"Total Accuracy:\",sum(pred == y) / len(y))\n",
    "    print()"
   ]
  },
  {
   "cell_type": "code",
   "execution_count": null,
   "metadata": {},
   "outputs": [],
   "source": []
  },
  {
   "cell_type": "code",
   "execution_count": null,
   "metadata": {},
   "outputs": [],
   "source": []
  },
  {
   "cell_type": "code",
   "execution_count": null,
   "metadata": {},
   "outputs": [],
   "source": []
  },
  {
   "cell_type": "code",
   "execution_count": null,
   "metadata": {},
   "outputs": [],
   "source": []
  },
  {
   "cell_type": "markdown",
   "metadata": {},
   "source": [
    "**Model Selection and Performance**"
   ]
  },
  {
   "cell_type": "markdown",
   "metadata": {},
   "source": [
    "Once you have extracted all the features you wish to use in your Machine Learning model, it is time to select a model and test it's accuracy on unseen data.  Because we don't actually have unseen data, we will create a sample of our total dataset where we hold-out the labels.\n",
    "\n",
    "Using sklearn's train_test_split, create a testing and training set with 33% of our data going towards our test set.  Refer to sklearn [documentation](https://scikit-learn.org/stable/modules/generated/sklearn.model_selection.train_test_split.html) to implement this."
   ]
  },
  {
   "cell_type": "code",
   "execution_count": 20,
   "metadata": {},
   "outputs": [],
   "source": [
    "## Create X_train, X_test, y_train, and y_test with 33% of our total data in our test set\n",
    "X_train, X_test, y_train, y_test = train_test_split(X_feat, y, test_size=0.33)"
   ]
  },
  {
   "cell_type": "markdown",
   "metadata": {},
   "source": [
    "Once we have our training and testing datasets, we can initialize our classifier, fit to our training data, and make predictions on our testing data.  Pick whichever classifier you want, I have imported kNN, Logistic Regression, and SVM from sklearn.  You can find more classifiers on sklearn's website and import as you wish.\n",
    "\n",
    "Hint: Use .fit() and .predict() after initializing the classifer"
   ]
  },
  {
   "cell_type": "code",
   "execution_count": 21,
   "metadata": {},
   "outputs": [
    {
     "data": {
      "text/plain": [
       "Index(['MIN', 'PTS', 'FGM', 'FGA', 'FG%', '3PM', '3PA', '3P%', 'FTM', 'FTA',\n",
       "       'FT%', 'OREB', 'DREB', 'REB', 'AST', 'STL', 'BLK', 'TOV', 'PF', 'Away',\n",
       "       'Home'],\n",
       "      dtype='object')"
      ]
     },
     "execution_count": 21,
     "metadata": {},
     "output_type": "execute_result"
    }
   ],
   "source": [
    "X_feat.columns"
   ]
  },
  {
   "cell_type": "code",
   "execution_count": 22,
   "metadata": {},
   "outputs": [],
   "source": [
    "classifier = KNeighborsClassifier(5)\n",
    "## Fit and predict using X_train, y_train, and X_test\n",
    "classifier.fit(X_train, y_train)\n",
    "pred = classifier.predict(X_test)"
   ]
  },
  {
   "cell_type": "markdown",
   "metadata": {},
   "source": [
    "The baseline accuracy (using KNeighborsClassifier with k=5) was 0.73522."
   ]
  },
  {
   "cell_type": "code",
   "execution_count": 23,
   "metadata": {},
   "outputs": [
    {
     "data": {
      "text/plain": [
       "0.7364532019704434"
      ]
     },
     "execution_count": 23,
     "metadata": {},
     "output_type": "execute_result"
    }
   ],
   "source": [
    "sum(pred == y_test) / len(pred)"
   ]
  },
  {
   "cell_type": "code",
   "execution_count": null,
   "metadata": {},
   "outputs": [],
   "source": []
  },
  {
   "cell_type": "markdown",
   "metadata": {},
   "source": [
    "**Hyperparameter Tuning**"
   ]
  },
  {
   "cell_type": "markdown",
   "metadata": {},
   "source": [
    "Now that we have generated predictions and an accuracy from the model, change hyperparameters to improve model perfomance.  This may be changing the value of k for KNearestNeighbors, C for LogisticRegression and SVM, and others depending on your model.\n",
    "\n",
    "You could loop through existing hyperparameters and output the score for each one to find the optimal hyperparameter value."
   ]
  },
  {
   "cell_type": "code",
   "execution_count": 24,
   "metadata": {},
   "outputs": [
    {
     "name": "stdout",
     "output_type": "stream",
     "text": [
      "k = 1 Accuracy: 0.6921182266009852\n",
      "k = 2 Accuracy: 0.6699507389162561\n",
      "k = 3 Accuracy: 0.7278325123152709\n",
      "k = 4 Accuracy: 0.7204433497536946\n",
      "k = 5 Accuracy: 0.7364532019704434\n",
      "k = 6 Accuracy: 0.7364532019704434\n",
      "k = 7 Accuracy: 0.7487684729064039\n",
      "k = 8 Accuracy: 0.7401477832512315\n",
      "k = 9 Accuracy: 0.7573891625615764\n",
      "k = 10 Accuracy: 0.7438423645320197\n"
     ]
    }
   ],
   "source": [
    "for k in range(1, 11):\n",
    "    classifier = KNeighborsClassifier(k)\n",
    "    classifier.fit(X_train, y_train)\n",
    "    pred = classifier.predict(X_test)\n",
    "    acc = sum(pred==y_test)/len(pred)\n",
    "    print(\"k = {} Accuracy: {}\".format(k, acc))"
   ]
  },
  {
   "cell_type": "code",
   "execution_count": null,
   "metadata": {},
   "outputs": [],
   "source": []
  },
  {
   "cell_type": "markdown",
   "metadata": {},
   "source": [
    "**Conclusion**\n",
    "\n",
    "As you will see, it is fairly easy to get a score above 0.70 regardless of how much feature engineering we do or which classifier we choose.  However, we are sort of cheating in a sense, becuase we are using data from that game to predict the results of that game.\n",
    "\n",
    "An interesting extension of this problem would be to predict who will win a game WITHOUT having any statistics present from that game.  One way to approach this problem would be to find average statistics of the team's last 5 or so games, and use that to predict their performance in the current game.\n",
    "\n",
    "Additionally, we could find outside datasets, such as a dataset of Vegas odds for the game see who is favored to win.  The possibilities are endless as far as what features you could engineer to make more accurate predictions, as long as you have quality data and an open mind."
   ]
  }
 ],
 "metadata": {
  "kernelspec": {
   "display_name": "Python 3",
   "language": "python",
   "name": "python3"
  },
  "language_info": {
   "codemirror_mode": {
    "name": "ipython",
    "version": 3
   },
   "file_extension": ".py",
   "mimetype": "text/x-python",
   "name": "python",
   "nbconvert_exporter": "python",
   "pygments_lexer": "ipython3",
   "version": "3.7.4"
  }
 },
 "nbformat": 4,
 "nbformat_minor": 2
}
